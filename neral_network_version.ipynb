{
 "cells": [
  {
   "cell_type": "code",
   "execution_count": 5,
   "metadata": {},
   "outputs": [
    {
     "data": {
      "text/plain": [
       "{'date': '27/12/5909', 'day_val': 1, 'day': 'Monday'}"
      ]
     },
     "execution_count": 5,
     "metadata": {},
     "output_type": "execute_result"
    }
   ],
   "source": [
    "import random as rn\n",
    "\n",
    "class DateFinder:\n",
    "    def __init__(self) -> None:\n",
    "        self.days = [\"Sunday\", \"Monday\", \"Tuesday\", \"Wednesday\", \"Thursday\", \"Firday\", \"Saturday\"]\n",
    "\n",
    "        self.norm_doomse_days = [\"04/04\", \"06/06\", \"08/08\", \"10/10\", \"12/12\", \"09/05\", \"05/09\", \"11/07\", \"07/11\", \"14/03\"]\n",
    "        self.rel_months = [date[3:5] for date in self.norm_doomse_days]\n",
    "\n",
    "        self.changing_doomse_days = {\n",
    "            \"not_leap\": [\"03/01\", \"28/02\"],\n",
    "            \"leap\": [\"04/01\", \"29/02\"]\n",
    "        }\n",
    "\n",
    "        self.dooms_day_2000 = 2\n",
    "    \n",
    "    def is_leap(self, year: int):\n",
    "        return year % 4 == 0 and (year % 100 != 0 or year % 400 == 0)\n",
    "    \n",
    "    def years_and_leap_years_since_2000(self, year: int):\n",
    "        years_bw = abs(year - 2000)\n",
    "\n",
    "        leaps_bw = int(years_bw / 4) - int(years_bw / 100) + int(years_bw / 400)\n",
    "        \n",
    "        if year < 2000:\n",
    "            years_bw = -years_bw\n",
    "            leaps_bw = -leaps_bw\n",
    "            leaps_bw -= 1\n",
    "        \n",
    "        return years_bw, leaps_bw\n",
    "\n",
    "    def calculate_doomsday_date(self, year: str):\n",
    "        years_since_2000, leaps_since_2000 = self.years_and_leap_years_since_2000(int(year))\n",
    "\n",
    "        return (self.dooms_day_2000 + years_since_2000 + leaps_since_2000) % 7\n",
    "    \n",
    "    def calculate_weekday(self, date: str):\n",
    "\n",
    "        year = date[6:]\n",
    "        \n",
    "        dooms_day_date = self.calculate_doomsday_date(year)\n",
    "\n",
    "        leap = self.is_leap(int(year))\n",
    "        day_month = date[0:5]\n",
    "\n",
    "        # if we were lucky enough to get and actual doomsday\n",
    "        if day_month in self.norm_doomse_days or (not leap and day_month in self.changing_doomse_days[\"not_leap\"]) or (leap and day_month in self.changing_doomse_days[\"leap\"]):\n",
    "            return self.days[dooms_day_date]\n",
    "        \n",
    "        day = date[0:2]\n",
    "        month = date[3:5]\n",
    "\n",
    "        int_month = int(month)\n",
    "\n",
    "        # handles for feb and jan\n",
    "        if int_month == 2:\n",
    "            if leap:\n",
    "                doomse_day = int(self.changing_doomse_days[\"leap\"][1][0:2])\n",
    "                diff = int(day) - doomse_day\n",
    "\n",
    "                return self.days[(dooms_day_date + diff) % 7]\n",
    "            else:\n",
    "                doomse_day = int(self.changing_doomse_days[\"not_leap\"][1][0:2])\n",
    "                diff = int(day) - doomse_day\n",
    "\n",
    "                return self.days[(dooms_day_date + diff) % 7]\n",
    "        elif int_month == 1:\n",
    "            if leap:\n",
    "                doomse_day = int(self.changing_doomse_days[\"leap\"][0][0:2])\n",
    "                diff = int(day) - doomse_day\n",
    "\n",
    "                return self.days[(dooms_day_date + diff) % 7]\n",
    "            else:\n",
    "                doomse_day = int(self.changing_doomse_days[\"not_leap\"][0][0:2])\n",
    "                diff = int(day) - doomse_day\n",
    "\n",
    "                return self.days[(dooms_day_date + diff) % 7]\n",
    "        else:\n",
    "            month_index = self.rel_months.index(month)\n",
    "            doomse_day = int(self.norm_doomse_days[month_index][0:2])\n",
    "            diff = int(day) - doomse_day\n",
    "\n",
    "            return self.days[(dooms_day_date + diff) % 7]\n",
    "\n",
    "    def calculate_weekday_val(self, date:str):\n",
    "        \n",
    "        year = date[6:]\n",
    "        \n",
    "        dooms_day_date = self.calculate_doomsday_date(year)\n",
    "\n",
    "        leap = self.is_leap(int(year))\n",
    "        day_month = date[0:5]\n",
    "\n",
    "        # if we were lucky enough to get and actual doomsday\n",
    "        if day_month in self.norm_doomse_days or (not leap and day_month in self.changing_doomse_days[\"not_leap\"]) or (leap and day_month in self.changing_doomse_days[\"leap\"]):\n",
    "            return dooms_day_date\n",
    "        \n",
    "        day = date[0:2]\n",
    "        month = date[3:5]\n",
    "\n",
    "        int_month = int(month)\n",
    "\n",
    "        # handles for feb and jan\n",
    "        if int_month == 2:\n",
    "            if leap:\n",
    "                doomse_day = int(self.changing_doomse_days[\"leap\"][1][0:2])\n",
    "                diff = int(day) - doomse_day\n",
    "\n",
    "                return (dooms_day_date + diff) % 7\n",
    "            else:\n",
    "                doomse_day = int(self.changing_doomse_days[\"not_leap\"][1][0:2])\n",
    "                diff = int(day) - doomse_day\n",
    "\n",
    "                return (dooms_day_date + diff) % 7\n",
    "        elif int_month == 1:\n",
    "            if leap:\n",
    "                doomse_day = int(self.changing_doomse_days[\"leap\"][0][0:2])\n",
    "                diff = int(day) - doomse_day\n",
    "\n",
    "                return (dooms_day_date + diff) % 7\n",
    "            else:\n",
    "                doomse_day = int(self.changing_doomse_days[\"not_leap\"][0][0:2])\n",
    "                diff = int(day) - doomse_day\n",
    "\n",
    "                return (dooms_day_date + diff) % 7\n",
    "        else:\n",
    "            month_index = self.rel_months.index(month)\n",
    "            doomse_day = int(self.norm_doomse_days[month_index][0:2])\n",
    "            diff = int(day) - doomse_day\n",
    "\n",
    "            return (dooms_day_date + diff) % 7\n",
    "    \n",
    "    def generate_random_date(self):\n",
    "        month = rn.randint(1, 12)\n",
    "        year = rn.randint(1, 6000)\n",
    "        if month == 2 and self.is_leap(year):\n",
    "            day_range = 29\n",
    "        elif month == 2:\n",
    "            day_range = 28\n",
    "        elif month == 4 or month == 6 or month == 9 or month == 11:\n",
    "            day_range = 30\n",
    "        else:\n",
    "            day_range = 31\n",
    "        day = rn.randint(1, day_range)\n",
    "\n",
    "        year_str = str(year)\n",
    "        if month < 10:\n",
    "            month_str = f\"0{month}\"\n",
    "        else:\n",
    "            month_str = str(month)\n",
    "        if day < 10:\n",
    "            day_str = f\"0{day}\"\n",
    "        else:\n",
    "            day_str = str(day)\n",
    "        \n",
    "        return f\"{day_str}/{month_str}/{year_str}\"\n",
    "    \n",
    "    def generate_random_day(self):\n",
    "        date = self.generate_random_date()\n",
    "        day_val = self.calculate_weekday_val(date)\n",
    "        return {\"date\": date, \"day_val\": day_val, \"day\": self.days[day_val]}\n",
    "\n",
    "finder = DateFinder()\n",
    "\n",
    "finder.generate_random_day()"
   ]
  },
  {
   "cell_type": "code",
   "execution_count": 42,
   "metadata": {},
   "outputs": [],
   "source": [
    "# lets generate the data\n",
    "def generate_data(amount):\n",
    "    full_data = []\n",
    "\n",
    "    day_counter = {\"Sunday\": 0, \"Monday\": 0, \"Tuesday\": 0, \"Wednesday\": 0, \"Thursday\": 0, \"Firday\": 0, \"Saturday\": 0}\n",
    "\n",
    "    while min(day_counter.values()) < amount:\n",
    "        data = finder.generate_random_day()\n",
    "\n",
    "        if day_counter[data[\"day\"]] < amount:\n",
    "            date = data[\"date\"]\n",
    "            day = int(date[0:2])\n",
    "            month = int(date[3:5])\n",
    "            year = int(date[6:])\n",
    "\n",
    "            full_data.append([[day, month, year], data[\"day_val\"]])\n",
    "\n",
    "            day_counter[data[\"day\"]] += 1\n",
    "    \n",
    "    return full_data, day_counter\n",
    "\n",
    "data = generate_data(10_000)"
   ]
  },
  {
   "cell_type": "code",
   "execution_count": 61,
   "metadata": {},
   "outputs": [
    {
     "data": {
      "text/plain": [
       "[[[15, 11, 5771], 5],\n",
       " [[26, 9, 1029], 6],\n",
       " [[1, 3, 5978], 3],\n",
       " [[17, 4, 629], 5],\n",
       " [[6, 5, 2797], 2]]"
      ]
     },
     "execution_count": 61,
     "metadata": {},
     "output_type": "execute_result"
    }
   ],
   "source": [
    "# take a look at it\n",
    "data[0][0:5]"
   ]
  },
  {
   "cell_type": "code",
   "execution_count": 81,
   "metadata": {},
   "outputs": [],
   "source": [
    "# certain imports\n",
    "import numpy as np\n",
    "import tensorflow as tf\n",
    "from tensorflow.keras.models import Sequential\n",
    "from tensorflow.keras.layers import Dense, Input\n",
    "from tensorflow.keras.activations import relu, softmax\n",
    "from tensorflow.keras.losses import CategoricalCrossentropy\n",
    "from tensorflow.keras.optimizers import Adam\n",
    "from tensorflow.keras.metrics import Accuracy\n",
    "\n"
   ]
  },
  {
   "cell_type": "code",
   "execution_count": 82,
   "metadata": {},
   "outputs": [],
   "source": [
    "# seperate x and y, turn y into one hot vectors and make them np arrays\n",
    "\n",
    "X = np.array([d[0] for d in data[0]])\n",
    "not_one_hot = np.array([d[1] for d in data[0]])\n",
    "\n",
    "# make y one hot encoded\n",
    "shape_for_encoded = (not_one_hot.size, not_one_hot.max() + 1)\n",
    "\n",
    "y = np.zeros(shape_for_encoded)\n",
    "\n",
    "rows = np.arange(not_one_hot.size)\n",
    "\n",
    "y[rows, not_one_hot] = 1\n",
    "\n"
   ]
  },
  {
   "cell_type": "code",
   "execution_count": 83,
   "metadata": {},
   "outputs": [
    {
     "data": {
      "text/plain": [
       "(array([0., 0., 0., 0., 0., 1., 0.]), 5, 3, 7)"
      ]
     },
     "execution_count": 83,
     "metadata": {},
     "output_type": "execute_result"
    }
   ],
   "source": [
    "y[0], not_one_hot[0], X.shape[1], y.shape[1]"
   ]
  },
  {
   "cell_type": "code",
   "execution_count": 88,
   "metadata": {},
   "outputs": [],
   "source": [
    "# make model\n",
    "model = Sequential(\n",
    "    [\n",
    "        Input(X.shape[1]),\n",
    "        Dense(8, relu),\n",
    "        Dense(8, relu),\n",
    "        Dense(y.shape[1], softmax),\n",
    "    ]\n",
    ")\n",
    "\n",
    "model.compile(Adam(), CategoricalCrossentropy, [Accuracy(), CategoricalCrossentropy()])\n"
   ]
  },
  {
   "cell_type": "code",
   "execution_count": 89,
   "metadata": {},
   "outputs": [
    {
     "name": "stdout",
     "output_type": "stream",
     "text": [
      "Model: \"sequential_4\"\n",
      "_________________________________________________________________\n",
      "Layer (type)                 Output Shape              Param #   \n",
      "=================================================================\n",
      "dense_12 (Dense)             (None, 8)                 32        \n",
      "_________________________________________________________________\n",
      "dense_13 (Dense)             (None, 8)                 72        \n",
      "_________________________________________________________________\n",
      "dense_14 (Dense)             (None, 7)                 63        \n",
      "=================================================================\n",
      "Total params: 167\n",
      "Trainable params: 167\n",
      "Non-trainable params: 0\n",
      "_________________________________________________________________\n"
     ]
    }
   ],
   "source": [
    "model.summary()"
   ]
  },
  {
   "cell_type": "code",
   "execution_count": null,
   "metadata": {},
   "outputs": [],
   "source": []
  }
 ],
 "metadata": {
  "interpreter": {
   "hash": "8d2a0b2e49a71b7012278843eaf86ce5d6b2ac33347fda911acc988290b929ca"
  },
  "kernelspec": {
   "display_name": "Python 3.9.9 64-bit (windows store)",
   "language": "python",
   "name": "python3"
  },
  "language_info": {
   "codemirror_mode": {
    "name": "ipython",
    "version": 3
   },
   "file_extension": ".py",
   "mimetype": "text/x-python",
   "name": "python",
   "nbconvert_exporter": "python",
   "pygments_lexer": "ipython3",
   "version": "3.9.9"
  },
  "orig_nbformat": 4
 },
 "nbformat": 4,
 "nbformat_minor": 2
}
