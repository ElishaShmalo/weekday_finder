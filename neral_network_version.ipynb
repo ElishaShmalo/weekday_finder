{
 "cells": [
  {
   "cell_type": "code",
   "execution_count": 1,
   "metadata": {},
   "outputs": [
    {
     "data": {
      "text/plain": [
       "{'date': '16/02/4730', 'day_val': 0, 'day': 'Sunday'}"
      ]
     },
     "execution_count": 1,
     "metadata": {},
     "output_type": "execute_result"
    }
   ],
   "source": [
    "import random as rn\n",
    "\n",
    "class DateFinder:\n",
    "    def __init__(self) -> None:\n",
    "        self.days = [\"Sunday\", \"Monday\", \"Tuesday\", \"Wednesday\", \"Thursday\", \"Firday\", \"Saturday\"]\n",
    "\n",
    "        self.norm_doomse_days = [\"04/04\", \"06/06\", \"08/08\", \"10/10\", \"12/12\", \"09/05\", \"05/09\", \"11/07\", \"07/11\", \"14/03\"]\n",
    "        self.rel_months = [date[3:5] for date in self.norm_doomse_days]\n",
    "\n",
    "        self.changing_doomse_days = {\n",
    "            \"not_leap\": [\"03/01\", \"28/02\"],\n",
    "            \"leap\": [\"04/01\", \"29/02\"]\n",
    "        }\n",
    "\n",
    "        self.dooms_day_2000 = 2\n",
    "    \n",
    "    def is_leap(self, year: int):\n",
    "        return year % 4 == 0 and (year % 100 != 0 or year % 400 == 0)\n",
    "    \n",
    "    def years_and_leap_years_since_2000(self, year: int):\n",
    "        years_bw = abs(year - 2000)\n",
    "\n",
    "        leaps_bw = int(years_bw / 4) - int(years_bw / 100) + int(years_bw / 400)\n",
    "        \n",
    "        if year < 2000:\n",
    "            years_bw = -years_bw\n",
    "            leaps_bw = -leaps_bw\n",
    "            leaps_bw -= 1\n",
    "        \n",
    "        return years_bw, leaps_bw\n",
    "\n",
    "    def calculate_doomsday_date(self, year: str):\n",
    "        years_since_2000, leaps_since_2000 = self.years_and_leap_years_since_2000(int(year))\n",
    "\n",
    "        return (self.dooms_day_2000 + years_since_2000 + leaps_since_2000) % 7\n",
    "    \n",
    "    def calculate_weekday(self, date: str):\n",
    "\n",
    "        year = date[6:]\n",
    "        \n",
    "        dooms_day_date = self.calculate_doomsday_date(year)\n",
    "\n",
    "        leap = self.is_leap(int(year))\n",
    "        day_month = date[0:5]\n",
    "\n",
    "        # if we were lucky enough to get and actual doomsday\n",
    "        if day_month in self.norm_doomse_days or (not leap and day_month in self.changing_doomse_days[\"not_leap\"]) or (leap and day_month in self.changing_doomse_days[\"leap\"]):\n",
    "            return self.days[dooms_day_date]\n",
    "        \n",
    "        day = date[0:2]\n",
    "        month = date[3:5]\n",
    "\n",
    "        int_month = int(month)\n",
    "\n",
    "        # handles for feb and jan\n",
    "        if int_month == 2:\n",
    "            if leap:\n",
    "                doomse_day = int(self.changing_doomse_days[\"leap\"][1][0:2])\n",
    "                diff = int(day) - doomse_day\n",
    "\n",
    "                return self.days[(dooms_day_date + diff) % 7]\n",
    "            else:\n",
    "                doomse_day = int(self.changing_doomse_days[\"not_leap\"][1][0:2])\n",
    "                diff = int(day) - doomse_day\n",
    "\n",
    "                return self.days[(dooms_day_date + diff) % 7]\n",
    "        elif int_month == 1:\n",
    "            if leap:\n",
    "                doomse_day = int(self.changing_doomse_days[\"leap\"][0][0:2])\n",
    "                diff = int(day) - doomse_day\n",
    "\n",
    "                return self.days[(dooms_day_date + diff) % 7]\n",
    "            else:\n",
    "                doomse_day = int(self.changing_doomse_days[\"not_leap\"][0][0:2])\n",
    "                diff = int(day) - doomse_day\n",
    "\n",
    "                return self.days[(dooms_day_date + diff) % 7]\n",
    "        else:\n",
    "            month_index = self.rel_months.index(month)\n",
    "            doomse_day = int(self.norm_doomse_days[month_index][0:2])\n",
    "            diff = int(day) - doomse_day\n",
    "\n",
    "            return self.days[(dooms_day_date + diff) % 7]\n",
    "\n",
    "    def calculate_weekday_val(self, date:str):\n",
    "        \n",
    "        year = date[6:]\n",
    "        \n",
    "        dooms_day_date = self.calculate_doomsday_date(year)\n",
    "\n",
    "        leap = self.is_leap(int(year))\n",
    "        day_month = date[0:5]\n",
    "\n",
    "        # if we were lucky enough to get and actual doomsday\n",
    "        if day_month in self.norm_doomse_days or (not leap and day_month in self.changing_doomse_days[\"not_leap\"]) or (leap and day_month in self.changing_doomse_days[\"leap\"]):\n",
    "            return dooms_day_date\n",
    "        \n",
    "        day = date[0:2]\n",
    "        month = date[3:5]\n",
    "\n",
    "        int_month = int(month)\n",
    "\n",
    "        # handles for feb and jan\n",
    "        if int_month == 2:\n",
    "            if leap:\n",
    "                doomse_day = int(self.changing_doomse_days[\"leap\"][1][0:2])\n",
    "                diff = int(day) - doomse_day\n",
    "\n",
    "                return (dooms_day_date + diff) % 7\n",
    "            else:\n",
    "                doomse_day = int(self.changing_doomse_days[\"not_leap\"][1][0:2])\n",
    "                diff = int(day) - doomse_day\n",
    "\n",
    "                return (dooms_day_date + diff) % 7\n",
    "        elif int_month == 1:\n",
    "            if leap:\n",
    "                doomse_day = int(self.changing_doomse_days[\"leap\"][0][0:2])\n",
    "                diff = int(day) - doomse_day\n",
    "\n",
    "                return (dooms_day_date + diff) % 7\n",
    "            else:\n",
    "                doomse_day = int(self.changing_doomse_days[\"not_leap\"][0][0:2])\n",
    "                diff = int(day) - doomse_day\n",
    "\n",
    "                return (dooms_day_date + diff) % 7\n",
    "        else:\n",
    "            month_index = self.rel_months.index(month)\n",
    "            doomse_day = int(self.norm_doomse_days[month_index][0:2])\n",
    "            diff = int(day) - doomse_day\n",
    "\n",
    "            return (dooms_day_date + diff) % 7\n",
    "    \n",
    "    def generate_random_date(self):\n",
    "        month = rn.randint(1, 12)\n",
    "        year = rn.randint(1, 6000)\n",
    "        if month == 2 and self.is_leap(year):\n",
    "            day_range = 29\n",
    "        elif month == 2:\n",
    "            day_range = 28\n",
    "        elif month == 4 or month == 6 or month == 9 or month == 11:\n",
    "            day_range = 30\n",
    "        else:\n",
    "            day_range = 31\n",
    "        day = rn.randint(1, day_range)\n",
    "\n",
    "        year_str = str(year)\n",
    "        if month < 10:\n",
    "            month_str = f\"0{month}\"\n",
    "        else:\n",
    "            month_str = str(month)\n",
    "        if day < 10:\n",
    "            day_str = f\"0{day}\"\n",
    "        else:\n",
    "            day_str = str(day)\n",
    "        \n",
    "        return f\"{day_str}/{month_str}/{year_str}\"\n",
    "    \n",
    "    def generate_random_day(self):\n",
    "        date = self.generate_random_date()\n",
    "        day_val = self.calculate_weekday_val(date)\n",
    "        return {\"date\": date, \"day_val\": day_val, \"day\": self.days[day_val]}\n",
    "\n",
    "finder = DateFinder()\n",
    "\n",
    "finder.generate_random_day()"
   ]
  },
  {
   "cell_type": "code",
   "execution_count": 2,
   "metadata": {},
   "outputs": [],
   "source": [
    "# lets generate the data\n",
    "def generate_data(amount):\n",
    "    full_data = []\n",
    "\n",
    "    day_counter = {\"Sunday\": 0, \"Monday\": 0, \"Tuesday\": 0, \"Wednesday\": 0, \"Thursday\": 0, \"Firday\": 0, \"Saturday\": 0}\n",
    "\n",
    "    while min(day_counter.values()) < amount:\n",
    "        data = finder.generate_random_day()\n",
    "\n",
    "        if day_counter[data[\"day\"]] < amount:\n",
    "            date = data[\"date\"]\n",
    "            day = int(date[0:2])\n",
    "            month = int(date[3:5])\n",
    "            year = int(date[6:])\n",
    "\n",
    "            full_data.append([[day, month, year], data[\"day_val\"]])\n",
    "\n",
    "            day_counter[data[\"day\"]] += 1\n",
    "    \n",
    "    return full_data, day_counter\n",
    "\n",
    "data = generate_data(50_000)"
   ]
  },
  {
   "cell_type": "code",
   "execution_count": 3,
   "metadata": {},
   "outputs": [
    {
     "data": {
      "text/plain": [
       "{'Sunday': 50000,\n",
       " 'Monday': 50000,\n",
       " 'Tuesday': 50000,\n",
       " 'Wednesday': 50000,\n",
       " 'Thursday': 50000,\n",
       " 'Firday': 50000,\n",
       " 'Saturday': 50000}"
      ]
     },
     "execution_count": 3,
     "metadata": {},
     "output_type": "execute_result"
    }
   ],
   "source": [
    "# take a look at it\n",
    "data[1]"
   ]
  },
  {
   "cell_type": "code",
   "execution_count": 4,
   "metadata": {},
   "outputs": [],
   "source": [
    "# certain imports\n",
    "import numpy as np\n",
    "import tensorflow as tf\n",
    "from tensorflow.keras.models import Sequential\n",
    "from tensorflow.keras.layers import Dense, Input\n",
    "from tensorflow.keras.activations import relu, softmax, sigmoid\n",
    "from tensorflow.keras.losses import categorical_crossentropy\n",
    "from tensorflow.keras.optimizers import Adam\n",
    "from tensorflow.keras.utils import normalize"
   ]
  },
  {
   "cell_type": "code",
   "execution_count": 5,
   "metadata": {},
   "outputs": [],
   "source": [
    "# seperate x and y, turn y into one hot vectors and make them np arrays\n",
    "\n",
    "not_normilized = np.array([d[0] for d in data[0]])\n",
    "not_one_hot = np.array([d[1] for d in data[0]])\n",
    "\n",
    "# make y one hot encoded\n",
    "shape_for_encoded = (not_one_hot.size, not_one_hot.max() + 1)\n",
    "\n",
    "y = np.zeros(shape_for_encoded)\n",
    "\n",
    "rows = np.arange(not_one_hot.size)\n",
    "\n",
    "y[rows, not_one_hot] = 1\n",
    "\n"
   ]
  },
  {
   "cell_type": "code",
   "execution_count": 8,
   "metadata": {},
   "outputs": [
    {
     "data": {
      "text/plain": [
       "(array([0., 0., 0., 0., 1., 0., 0.]), 4, 3, 7)"
      ]
     },
     "execution_count": 8,
     "metadata": {},
     "output_type": "execute_result"
    }
   ],
   "source": [
    "y[2], not_one_hot[2], not_normilized.shape[1], y.shape[1]"
   ]
  },
  {
   "cell_type": "code",
   "execution_count": 9,
   "metadata": {},
   "outputs": [
    {
     "data": {
      "text/plain": [
       "array([[0.67741935, 0.08333333, 0.13616667],\n",
       "       [0.22580645, 1.        , 0.53283333],\n",
       "       [0.87096774, 0.25      , 0.16566667],\n",
       "       ...,\n",
       "       [0.93548387, 0.08333333, 0.126     ],\n",
       "       [0.87096774, 0.08333333, 0.927     ],\n",
       "       [0.96774194, 0.66666667, 0.482     ]])"
      ]
     },
     "execution_count": 9,
     "metadata": {},
     "output_type": "execute_result"
    }
   ],
   "source": [
    "# normalize X\n",
    "days = not_normilized[:, 0] / 31\n",
    "months = not_normilized[:, 1] / 12\n",
    "years = not_normilized[:, 2]\n",
    "years = years / years.max()\n",
    "X = np.array(list(zip(days, months, years)), np.float)\n",
    "X"
   ]
  },
  {
   "cell_type": "code",
   "execution_count": 10,
   "metadata": {},
   "outputs": [],
   "source": [
    "# make model\n",
    "model = Sequential(\n",
    "    [\n",
    "        Input(X.shape[1]),\n",
    "        Dense(32, relu),\n",
    "        Dense(32, relu),\n",
    "        Dense(y.shape[1], sigmoid),\n",
    "    ]\n",
    ")\n",
    "\n",
    "model.compile(Adam(), categorical_crossentropy, [\"accuracy\"])\n"
   ]
  },
  {
   "cell_type": "code",
   "execution_count": 11,
   "metadata": {},
   "outputs": [
    {
     "name": "stdout",
     "output_type": "stream",
     "text": [
      "Model: \"sequential\"\n",
      "_________________________________________________________________\n",
      "Layer (type)                 Output Shape              Param #   \n",
      "=================================================================\n",
      "dense (Dense)                (None, 32)                128       \n",
      "_________________________________________________________________\n",
      "dense_1 (Dense)              (None, 32)                1056      \n",
      "_________________________________________________________________\n",
      "dense_2 (Dense)              (None, 7)                 231       \n",
      "=================================================================\n",
      "Total params: 1,415\n",
      "Trainable params: 1,415\n",
      "Non-trainable params: 0\n",
      "_________________________________________________________________\n"
     ]
    }
   ],
   "source": [
    "model.summary()"
   ]
  },
  {
   "cell_type": "code",
   "execution_count": 13,
   "metadata": {},
   "outputs": [
    {
     "name": "stdout",
     "output_type": "stream",
     "text": [
      "10829/10829 [==============================] - 11s 1ms/step - loss: 1.9460 - accuracy: 0.1416 - val_loss: 1.9469 - val_accuracy: 0.1249\n"
     ]
    }
   ],
   "source": [
    "output = model.fit(X, y, 32, 1, validation_split=0.01)"
   ]
  },
  {
   "cell_type": "code",
   "execution_count": 158,
   "metadata": {},
   "outputs": [],
   "source": [
    "#  make eval data\n",
    "eval_data = generate_data(1000)\n",
    "\n",
    "eval_x, noh = np.array([d[0] for d in data[0]]), np.array([d[1] for d in data[0]])\n",
    "\n",
    "shape = (noh.size, noh.max() + 1)\n",
    "\n",
    "eval_y = np.zeros(shape)\n",
    "\n",
    "rows = np.arange(noh.size)\n",
    "\n",
    "eval_y[rows, noh] = 1\n"
   ]
  },
  {
   "cell_type": "code",
   "execution_count": 206,
   "metadata": {},
   "outputs": [
    {
     "data": {
      "text/plain": [
       "array([1, 1, 1, 1, 1, 1, 1, 1, 1, 1], dtype=int64)"
      ]
     },
     "execution_count": 206,
     "metadata": {},
     "output_type": "execute_result"
    }
   ],
   "source": [
    "np.argmax(model.predict(X[0: 10]), 1)"
   ]
  },
  {
   "cell_type": "code",
   "execution_count": 199,
   "metadata": {},
   "outputs": [
    {
     "data": {
      "text/plain": [
       "array([0, 0, 6, 2, 5, 0, 1, 6, 4, 4], dtype=int64)"
      ]
     },
     "execution_count": 199,
     "metadata": {},
     "output_type": "execute_result"
    }
   ],
   "source": [
    "np.argmax(y[0:10], 1)"
   ]
  },
  {
   "cell_type": "code",
   "execution_count": null,
   "metadata": {},
   "outputs": [],
   "source": []
  }
 ],
 "metadata": {
  "interpreter": {
   "hash": "8d2a0b2e49a71b7012278843eaf86ce5d6b2ac33347fda911acc988290b929ca"
  },
  "kernelspec": {
   "display_name": "Python 3.9.9 64-bit (windows store)",
   "language": "python",
   "name": "python3"
  },
  "language_info": {
   "codemirror_mode": {
    "name": "ipython",
    "version": 3
   },
   "file_extension": ".py",
   "mimetype": "text/x-python",
   "name": "python",
   "nbconvert_exporter": "python",
   "pygments_lexer": "ipython3",
   "version": "3.9.9"
  },
  "orig_nbformat": 4
 },
 "nbformat": 4,
 "nbformat_minor": 2
}
